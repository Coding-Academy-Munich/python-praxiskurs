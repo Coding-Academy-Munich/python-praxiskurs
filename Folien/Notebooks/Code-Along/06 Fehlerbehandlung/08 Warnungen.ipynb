{
 "cells": [
  {
   "cell_type": "markdown",
   "id": "9386046c222847dd",
   "metadata": {
    "lang": "de",
    "slideshow": {
     "slide_type": "slide"
    },
    "tags": [
     "slide"
    ]
   },
   "source": [
    "\n",
    "<img src=\"data:image/svg+xml;base64,PHN2ZyB4bWxucz0iaHR0cDovL3d3dy53My5vcmcvMjAwMC9zdmciIHhtbG5zOnhsaW5rPSJodHRw\n",
    "Oi8vd3d3LnczLm9yZy8xOTk5L3hsaW5rIiB3aWR0aD0iMTExLjE2MSIgaGVpZ2h0PSIxMzQuNjY4\n",
    "IiB2ZXJzaW9uPSIxLjAiPjxkZWZzPjxsaW5lYXJHcmFkaWVudCBpZD0iYyI+PHN0b3Agb2Zmc2V0\n",
    "PSIwIiBzdHlsZT0ic3RvcC1jb2xvcjojYjhiOGI4O3N0b3Atb3BhY2l0eTouNDk4MDM5MjIiLz48\n",
    "c3RvcCBvZmZzZXQ9IjEiIHN0eWxlPSJzdG9wLWNvbG9yOiM3ZjdmN2Y7c3RvcC1vcGFjaXR5OjAi\n",
    "Lz48L2xpbmVhckdyYWRpZW50PjxsaW5lYXJHcmFkaWVudCBpZD0iYSI+PHN0b3Agb2Zmc2V0PSIw\n",
    "IiBzdHlsZT0ic3RvcC1jb2xvcjojZmZkNDNiO3N0b3Atb3BhY2l0eToxIi8+PHN0b3Agb2Zmc2V0\n",
    "PSIxIiBzdHlsZT0ic3RvcC1jb2xvcjojZmZlODczO3N0b3Atb3BhY2l0eToxIi8+PC9saW5lYXJH\n",
    "cmFkaWVudD48bGluZWFyR3JhZGllbnQgaWQ9ImIiPjxzdG9wIG9mZnNldD0iMCIgc3R5bGU9InN0\n",
    "b3AtY29sb3I6IzVhOWZkNDtzdG9wLW9wYWNpdHk6MSIvPjxzdG9wIG9mZnNldD0iMSIgc3R5bGU9\n",
    "InN0b3AtY29sb3I6IzMwNjk5ODtzdG9wLW9wYWNpdHk6MSIvPjwvbGluZWFyR3JhZGllbnQ+PGxp\n",
    "bmVhckdyYWRpZW50IHhsaW5rOmhyZWY9IiNhIiBpZD0iZSIgeDE9IjE1MC45NjEiIHgyPSIxMTIu\n",
    "MDMxIiB5MT0iMTkyLjM1MiIgeTI9IjEzNy4yNzMiIGdyYWRpZW50VHJhbnNmb3JtPSJtYXRyaXgo\n",
    "LjU2MjU0IDAgMCAuNTY3OTcgLTE0Ljk5MSAtMTEuNzAyKSIgZ3JhZGllbnRVbml0cz0idXNlclNw\n",
    "YWNlT25Vc2UiLz48bGluZWFyR3JhZGllbnQgeGxpbms6aHJlZj0iI2IiIGlkPSJkIiB4MT0iMjYu\n",
    "NjQ5IiB4Mj0iMTM1LjY2NSIgeTE9IjIwLjYwNCIgeTI9IjExNC4zOTgiIGdyYWRpZW50VHJhbnNm\n",
    "b3JtPSJtYXRyaXgoLjU2MjU0IDAgMCAuNTY3OTcgLTE0Ljk5MSAtMTEuNzAyKSIgZ3JhZGllbnRV\n",
    "bml0cz0idXNlclNwYWNlT25Vc2UiLz48cmFkaWFsR3JhZGllbnQgeGxpbms6aHJlZj0iI2MiIGlk\n",
    "PSJmIiBjeD0iNjEuNTE5IiBjeT0iMTMyLjI4NiIgcj0iMjkuMDM3IiBmeD0iNjEuNTE5IiBmeT0i\n",
    "MTMyLjI4NiIgZ3JhZGllbnRUcmFuc2Zvcm09Im1hdHJpeCgwIC0uMjM5OTUgMS4wNTQ2NyAwIC04\n",
    "My43IDE0Mi40NjIpIiBncmFkaWVudFVuaXRzPSJ1c2VyU3BhY2VPblVzZSIvPjwvZGVmcz48cGF0\n",
    "aCBkPSJNNTQuOTE5IDBjLTQuNTg0LjAyMi04Ljk2MS40MTMtMTIuODEzIDEuMDk1QzMwLjc2IDMu\n",
    "MDk5IDI4LjcgNy4yOTUgMjguNyAxNS4wMzJ2MTAuMjE5aDI2LjgxM3YzLjQwNkgxOC42MzhjLTcu\n",
    "NzkzIDAtMTQuNjE2IDQuNjg0LTE2Ljc1IDEzLjU5NC0yLjQ2MiAxMC4yMTMtMi41NzEgMTYuNTg2\n",
    "IDAgMjcuMjUgMS45MDUgNy45MzggNi40NTcgMTMuNTk0IDE0LjI1IDEzLjU5NGg5LjIxOHYtMTIu\n",
    "MjVjMC04Ljg1IDcuNjU3LTE2LjY1NyAxNi43NS0xNi42NTdoMjYuNzgyYzcuNDU0IDAgMTMuNDA2\n",
    "LTYuMTM4IDEzLjQwNi0xMy42MjV2LTI1LjUzYzAtNy4yNjctNi4xMy0xMi43MjYtMTMuNDA2LTEz\n",
    "LjkzOEM2NC4yODIuMzI4IDU5LjUwMi0uMDIgNTQuOTE4IDBtLTE0LjUgOC4yMmMyLjc3IDAgNS4w\n",
    "MzEgMi4yOTggNS4wMzEgNS4xMjUgMCAyLjgxNi0yLjI2MiA1LjA5My01LjAzMSA1LjA5My0yLjc4\n",
    "IDAtNS4wMzEtMi4yNzctNS4wMzEtNS4wOTMgMC0yLjgyNyAyLjI1MS01LjEyNSA1LjAzLTUuMTI1\n",
    "IiBzdHlsZT0iZmlsbDp1cmwoI2QpO2ZpbGwtb3BhY2l0eToxIi8+PHBhdGggZD0iTTg1LjYzOCAy\n",
    "OC42NTd2MTEuOTA2YzAgOS4yMzEtNy44MjYgMTctMTYuNzUgMTdINDIuMTA2Yy03LjMzNiAwLTEz\n",
    "LjQwNiA2LjI3OS0xMy40MDYgMTMuNjI1Vjk2LjcyYzAgNy4yNjYgNi4zMTkgMTEuNTQgMTMuNDA2\n",
    "IDEzLjYyNSA4LjQ4OCAyLjQ5NSAxNi42MjcgMi45NDYgMjYuNzgyIDAgNi43NS0xLjk1NSAxMy40\n",
    "MDYtNS44ODggMTMuNDA2LTEzLjYyNVY4Ni41SDU1LjUxM3YtMy40MDVIOTUuN2M3Ljc5MyAwIDEw\n",
    "LjY5Ni01LjQzNiAxMy40MDYtMTMuNTk0IDIuOC04LjM5OSAyLjY4LTE2LjQ3NiAwLTI3LjI1LTEu\n",
    "OTI1LTcuNzU4LTUuNjA0LTEzLjU5NC0xMy40MDYtMTMuNTk0ek03MC41NzUgOTMuMzEzYzIuNzgg\n",
    "MCA1LjAzMSAyLjI3OCA1LjAzMSA1LjA5NCAwIDIuODI3LTIuMjUxIDUuMTI1LTUuMDMxIDUuMTI1\n",
    "LTIuNzcgMC01LjAzMS0yLjI5OC01LjAzMS01LjEyNSAwLTIuODE2IDIuMjYxLTUuMDk0IDUuMDMx\n",
    "LTUuMDk0IiBzdHlsZT0iZmlsbDp1cmwoI2UpO2ZpbGwtb3BhY2l0eToxIi8+PGVsbGlwc2UgY3g9\n",
    "IjU1LjgxNyIgY3k9IjEyNy43MDEiIHJ4PSIzNS45MzEiIHJ5PSI2Ljk2NyIgc3R5bGU9Im9wYWNp\n",
    "dHk6LjQ0MzgyO2ZpbGw6dXJsKCNmKTtmaWxsLW9wYWNpdHk6MTtmaWxsLXJ1bGU6bm9uemVybztz\n",
    "dHJva2U6bm9uZTtzdHJva2Utd2lkdGg6MTUuNDE3NDtzdHJva2UtbWl0ZXJsaW1pdDo0O3N0cm9r\n",
    "ZS1kYXNoYXJyYXk6bm9uZTtzdHJva2Utb3BhY2l0eToxIi8+PC9zdmc+\n",
    "\"\n",
    "     style=\"display:block;margin:auto;width:10%\" alt=\"Python Logo\"/>\n",
    "<br>\n",
    "\n",
    "<div style=\"text-align:center; font-size:200%;\">\n",
    " <b>Warnungen</b>\n",
    "</div>\n",
    "<br/>\n",
    "<div style=\"text-align:center;\">Dr. Matthias Hölzl</div>\n",
    "<br/>"
   ]
  },
  {
   "cell_type": "markdown",
   "id": "f703087b3d472352",
   "metadata": {
    "lang": "de",
    "slideshow": {
     "slide_type": "slide"
    },
    "tags": [
     "slide"
    ]
   },
   "source": [
    "\n",
    "# Das Warnungssystem in Python\n",
    "\n",
    "Warnungen, um robuste und wartbare Software zu schreiben"
   ]
  },
  {
   "cell_type": "markdown",
   "id": "bb538b260dc89075",
   "metadata": {
    "lang": "de",
    "slideshow": {
     "slide_type": "slide"
    },
    "tags": [
     "slide"
    ]
   },
   "source": [
    "\n",
    "## Was ist das `warnings`-Modul?\n",
    "\n",
    "- Signalisiert potenzielle Probleme oder Bedingungen, die *nicht* unbedingt\n",
    "  das Stoppen des Programms erfordern (im Gegensatz zu Ausnahmen).\n",
    "- Informiert Entwickler/Benutzer über nicht fatale Probleme:\n",
    "  - Veraltete (\"deprecated\") Funktionen.\n",
    "  - Potenziell problematische Verwendung.\n",
    "  - Veraltete Praktiken.\n",
    "- Standardverhalten: Gibt Nachrichten an `sys.stderr` aus und setzt die\n",
    "  Ausführung fort.\n",
    "- Konfigurierbar: Verhalten kann geändert werden (ignorieren, anzeigen,\n",
    "  protokollieren, als Fehler behandeln)."
   ]
  },
  {
   "cell_type": "markdown",
   "id": "f6aa275fd9def281",
   "metadata": {
    "lang": "de",
    "slideshow": {
     "slide_type": "slide"
    },
    "tags": [
     "slide"
    ]
   },
   "source": [
    "\n",
    "## Warnungen vs. Ausnahmen\n",
    "\n",
    "- **Ausnahmen (`Exception`):**\n",
    "  - Signalisieren *Fehler* oder Bedingungen, die den normalen Betrieb\n",
    "    verhindern.\n",
    "  - *Stoppen* den Programmfluss, wenn sie nicht behandelt werden (z.B.\n",
    "    `TypeError`, `ValueError`).\n",
    "  - Erfordern eine explizite Behandlung (`try...except`), um ein elegantes\n",
    "    Scheitern zu ermöglichen.\n",
    "- **Warnungen (`Warning`):**\n",
    "  - Deuten auf *potenzielle* Probleme, veralteten Code, oder nicht\n",
    "    standardmäßige Verwendung hin.\n",
    "  - *Stoppen* den Programmfluss standardmäßig *nicht*.\n",
    "  - Bieten strukturierte, filterbare Warnungen.\n",
    "- **Vererbung:**\n",
    "  - `Warning` ist eine Unterklasse von `Exception`.\n",
    "  - Dies ermöglicht es, Warnungen *als* Fehler zu behandeln, wenn sie\n",
    "    entsprechend konfiguriert sind."
   ]
  },
  {
   "cell_type": "markdown",
   "id": "7928d62f1434f417",
   "metadata": {
    "lang": "de",
    "slideshow": {
     "slide_type": "slide"
    },
    "tags": [
     "slide"
    ]
   },
   "source": [
    "\n",
    "## III. Wann Warnungen verwenden?\n",
    "\n",
    "- **Veraltete Funktionen:**\n",
    "  - Häufigster Anwendungsfall.\n",
    "  - Informiert Entwickler über bevorstehende API-Entfernungen\n",
    "    (`DeprecationWarning`, `PendingDeprecationWarning`).\n",
    "  - Ermöglicht einen sanften Übergang, ohne den Code sofort zu zerstören.\n",
    "- **Potenzielle Laufzeitprobleme:**\n",
    "  - Situationen, die *Probleme* verursachen *könnten* (z.B. numerische\n",
    "    Instabilität, Ressourcenprobleme).\n",
    "  - `RuntimeWarning`, `ResourceWarning`.\n",
    "- **Vorschläge für Alternativen/Beste Praktiken:**\n",
    "  - Hervorhebung ineffizienter oder nicht empfohlener Muster (`UserWarning`).\n",
    "- **Zweifelhafte Syntax/Importe:**\n",
    "  - Code, der gültig, aber potenziell falsch ist (`SyntaxWarning`,\n",
    "    `ImportWarning`).\n",
    "- **Warum nicht `print()`?**\n",
    "  - Warnungen sind filterbar, kategorisierbar, gehen standardmäßig an `stderr`\n",
    "    und enthalten Quellinformationen."
   ]
  },
  {
   "cell_type": "markdown",
   "id": "2ff631e3268bd4f7",
   "metadata": {
    "lang": "de",
    "lines_to_next_cell": 2,
    "slideshow": {
     "slide_type": "slide"
    },
    "tags": [
     "slide"
    ]
   },
   "source": [
    "\n",
    "## Workshop: Warnung oder Ausnahme?\n",
    "\n",
    "Entscheiden Sie für jedes Szenario, ob eine `Warning` oder eine `Exception`\n",
    "geeigneter ist:\n",
    "\n",
    "1. Eine Funktion `calculate_average(numbers)` erhält eine leere Liste. Es\n",
    "   tritt eine Division durch Null auf.\n",
    "2. Eine Bibliotheksfunktion `old_style_connect()` funktioniert weiterhin, wird\n",
    "   aber in zwei Versionen entfernt. Eine neue Funktion `connect()` wird\n",
    "   bevorzugt.\n",
    "3. Eine Konfigurationsdatei ist lesbar, enthält jedoch eine Einstellung\n",
    "   (`timeout=0`), die in Grenzfällen zu unerwartetem Verhalten führen kann.\n",
    "4. Eine Funktion `read_data(filename)` kann die angegebene Datei nicht finden.\n",
    "5. Eine Funktion zur numerischen Simulation erkennt einen möglichen Verlust\n",
    "   der Genauigkeit aufgrund von Gleitkomma-Beschränkungen, aber die Berechnung\n",
    "   kann weiterhin abgeschlossen werden"
   ]
  },
  {
   "cell_type": "markdown",
   "id": "12a522d6e615c913",
   "metadata": {
    "lang": "de",
    "slideshow": {
     "slide_type": "slide"
    },
    "tags": [
     "slide"
    ]
   },
   "source": [
    "\n",
    "## Warnungen auslösen: `warnings.warn()`\n",
    "\n",
    "- `warnings.warn(message, category=UserWarning, stacklevel=1)`\n",
    "- `message`: Der Text der Warnung (String).\n",
    "- `category`: Der Typ der Warnung (Unterklasse von `Warning`). Standardmäßig\n",
    "  `UserWarning`.\n",
    "- `stacklevel`: Wichtig, um auf den Code des *Aufrufers* zu verweisen, nicht\n",
    "  auf die `warn()`-Zeile selbst.\n",
    "  - `stacklevel=1` (Standard): Verweist auf die Zeile, in der `warn()`\n",
    "    aufgerufen wird.\n",
    "  - `stacklevel=2`: Verweist auf die Zeile, die die Funktion mit `warn()`\n",
    "    aufgerufen hat.\n",
    "  - Passen Sie es je nach Tiefe des Aufrufstapels an."
   ]
  },
  {
   "cell_type": "code",
   "execution_count": null,
   "id": "5fbcdc8574187415",
   "metadata": {
    "slideshow": {
     "slide_type": "subslide"
    },
    "tags": [
     "keep",
     "subslide"
    ]
   },
   "outputs": [],
   "source": [
    "import warnings"
   ]
  },
  {
   "cell_type": "code",
   "execution_count": null,
   "id": "7d7ca7cae1e6ffb9",
   "metadata": {
    "tags": [
     "keep"
    ]
   },
   "outputs": [],
   "source": [
    "def risky_operation(value):\n",
    "    if value < 0:\n",
    "        # Default category (UserWarning), default stacklevel (1)\n",
    "        warnings.warn(\"Negative value encountered!\")\n",
    "    # ... proceed...\n",
    "    return value * 10"
   ]
  },
  {
   "cell_type": "code",
   "execution_count": null,
   "id": "752aca2b941b4e2a",
   "metadata": {},
   "outputs": [],
   "source": []
  },
  {
   "cell_type": "markdown",
   "id": "75bbc7e41fd42ba6",
   "metadata": {
    "lang": "de",
    "slideshow": {
     "slide_type": "subslide"
    },
    "tags": [
     "subslide"
    ]
   },
   "source": [
    "\n",
    "### Die Bedeutung von `stacklevel`\n",
    "\n",
    "- Sorgen dafür, das hilfreiche Warnungen ausgegeben werden, insbesondere bei\n",
    "  `DeprecationWarning`."
   ]
  },
  {
   "cell_type": "code",
   "execution_count": null,
   "id": "f4952b0d6a83b333",
   "metadata": {
    "tags": [
     "keep"
    ]
   },
   "outputs": [],
   "source": [
    "import warnings"
   ]
  },
  {
   "cell_type": "code",
   "execution_count": null,
   "id": "40daee13197f4e62",
   "metadata": {
    "tags": [
     "keep"
    ]
   },
   "outputs": [],
   "source": [
    "def new_function(arg):\n",
    "    print(f\"Using new function with {arg}\")\n",
    "    return arg * 2"
   ]
  },
  {
   "cell_type": "code",
   "execution_count": null,
   "id": "9333bb2fd2c3fca8",
   "metadata": {
    "tags": [
     "start"
    ]
   },
   "outputs": [],
   "source": [
    "def old_deprecated_function(arg):\n",
    "    warnings.warn(\"Use new_function() instead\", DeprecationWarning)\n",
    "    return new_function(arg)"
   ]
  },
  {
   "cell_type": "code",
   "execution_count": null,
   "id": "794a813a417c6c23",
   "metadata": {
    "tags": [
     "keep"
    ]
   },
   "outputs": [],
   "source": [
    "old_deprecated_function(10)  # Warning should point HERE"
   ]
  },
  {
   "cell_type": "markdown",
   "id": "f5da016758ea7e27",
   "metadata": {
    "lang": "de",
    "slideshow": {
     "slide_type": "subslide"
    },
    "tags": [
     "subslide"
    ]
   },
   "source": [
    "\n",
    "- `stacklevel=2` identifiziert korrekt die Zeile, die die veraltete Funktion\n",
    "  aufruft."
   ]
  },
  {
   "cell_type": "markdown",
   "id": "3f145367defc8c6c",
   "metadata": {
    "lang": "de",
    "slideshow": {
     "slide_type": "slide"
    },
    "tags": [
     "slide"
    ]
   },
   "source": [
    "\n",
    "## Workshop: Auslösen einer Warnung vor Veraltung (Deprecation Warning)\n",
    "\n",
    "1. Erstellen Sie eine Funktion `old_printer(text)`, die den gegebenen `text`\n",
    "   ausgibt.\n",
    "2. Geben Sie innerhalb von `old_printer` eine `DeprecationWarning` aus, die\n",
    "   besagt, dass `new_printer(text)` stattdessen verwendet werden sollte.\n",
    "3. Stellen Sie sicher, dass die Warnmeldung korrekt auf die Zeile verweist,\n",
    "   die `old_printer` *aufruft*, nicht auf die Zeile `warnings.warn` selbst.\n",
    "4. Rufen Sie `old_printer(\"Hallo\")` auf und beobachten Sie die\n",
    "   Warnungsausgabe."
   ]
  },
  {
   "cell_type": "code",
   "execution_count": null,
   "id": "659295ffeabe0ebc",
   "metadata": {
    "slideshow": {
     "slide_type": "subslide"
    },
    "tags": [
     "subslide",
     "keep"
    ]
   },
   "outputs": [],
   "source": [
    "import warnings"
   ]
  },
  {
   "cell_type": "code",
   "execution_count": null,
   "id": "6a17f91f947bd85a",
   "metadata": {},
   "outputs": [],
   "source": []
  },
  {
   "cell_type": "code",
   "execution_count": null,
   "id": "f1ad004a3bdc70f1",
   "metadata": {},
   "outputs": [],
   "source": []
  },
  {
   "cell_type": "markdown",
   "id": "9684891ee5a4c3be",
   "metadata": {
    "lang": "de",
    "lines_to_next_cell": 2,
    "slideshow": {
     "slide_type": "slide"
    },
    "tags": [
     "slide"
    ]
   },
   "source": [
    "\n",
    "## Warnungskategorien\n",
    "\n",
    "- Warnungen sind in Kategorien organisiert (Klassen, die von `Warning` erben).\n",
    "- Ermöglicht selektives Filtern.\n",
    "- **Eingebaute Kategorien**:\n",
    "  - `Warning`: Basisklasse.\n",
    "  - `UserWarning`: Standard für `warn()`; Probleme im Benutzercode.\n",
    "  - `DeprecationWarning`: Für Entwickler; veraltete Funktionen (oft\n",
    "    standardmäßig ignoriert).\n",
    "  - `PendingDeprecationWarning`: Zukünftige Veraltung (standardmäßig\n",
    "    ignoriert).\n",
    "  - `RuntimeWarning`: Zweifelhafte Laufzeitverhalten (z.B. numerische\n",
    "    Probleme).\n",
    "  - `SyntaxWarning`: Zweifelhafte Syntax (z.B. `is` mit Literalen).\n",
    "  - `ImportWarning`: Probleme beim Import (standardmäßig ignoriert).\n",
    "  - `BytesWarning`: Probleme mit `bytes`/`bytearray` vs `str` (standardmäßig\n",
    "     ignoriert).\n",
    "  - `ResourceWarning`: Mögliche Ressourcenlecks (z.B. nicht geschlossene\n",
    "     Dateien) (standardmäßig ignoriert).\n",
    "- **Benutzerdefinierte Kategorien:** Definieren Sie Ihre eigenen, indem Sie\n",
    "  `Warning` oder andere Klassen erweitern."
   ]
  },
  {
   "cell_type": "markdown",
   "id": "51c18c90f6e90cf1",
   "metadata": {
    "lang": "de",
    "slideshow": {
     "slide_type": "slide"
    },
    "tags": [
     "slide"
    ]
   },
   "source": [
    "\n",
    "## Warnungskategorien: Beispiele"
   ]
  },
  {
   "cell_type": "code",
   "execution_count": null,
   "id": "94c4563ee137ed77",
   "metadata": {
    "tags": [
     "keep"
    ]
   },
   "outputs": [],
   "source": [
    "import warnings"
   ]
  },
  {
   "cell_type": "code",
   "execution_count": null,
   "id": "40b47ec0e0b7b81a",
   "metadata": {},
   "outputs": [],
   "source": []
  },
  {
   "cell_type": "code",
   "execution_count": null,
   "id": "c57ff0278360306e",
   "metadata": {},
   "outputs": [],
   "source": []
  },
  {
   "cell_type": "code",
   "execution_count": null,
   "id": "207b6aece3a01fa8",
   "metadata": {},
   "outputs": [],
   "source": []
  },
  {
   "cell_type": "markdown",
   "id": "c9bb68c22d05c043",
   "metadata": {
    "lang": "de",
    "lines_to_next_cell": 2,
    "slideshow": {
     "slide_type": "subslide"
    },
    "tags": [
     "subslide"
    ]
   },
   "source": [
    "\n",
    "### Workshop: Verwendung spezifischer Kategorien\n",
    "\n",
    "1. Schreiben Sie eine Funktion `process_data(data, version)`, die ein\n",
    "   Dictionary `data` und eine Versionsnummer `version` erhält.\n",
    "2. Wenn `version < 2`, geben Sie eine `DeprecationWarning` aus, dass Versionen\n",
    "   unter 2 veraltet sind und die Unterstützung enden wird. Verwenden Sie\n",
    "   `stacklevel=2`.\n",
    "3. Wenn das `data`-Dictionary einen erforderlichen Schlüssel `'id'` fehlt,\n",
    "   geben Sie eine `RuntimeWarning` aus, dass der Schlüssel fehlt, aber\n",
    "   versucht wird, mit der Ausführung fortzufahren. Verwenden Sie\n",
    "   `stacklevel=2`.\n",
    "4. Rufen Sie die Funktion mit verschiedenen Eingaben auf, um jede Warnung\n",
    "   auszulösen."
   ]
  },
  {
   "cell_type": "code",
   "execution_count": null,
   "id": "bc964e4a83ffb1c3",
   "metadata": {
    "slideshow": {
     "slide_type": "subslide"
    },
    "tags": [
     "keep",
     "subslide"
    ]
   },
   "outputs": [],
   "source": [
    "import warnings"
   ]
  },
  {
   "cell_type": "code",
   "execution_count": null,
   "id": "a8c1cd10f8c7188a",
   "metadata": {},
   "outputs": [],
   "source": []
  },
  {
   "cell_type": "markdown",
   "id": "2f07cbddb5480085",
   "metadata": {
    "lang": "de",
    "slideshow": {
     "slide_type": "slide"
    },
    "tags": [
     "slide"
    ]
   },
   "source": [
    "\n",
    " ## Warnungen kontrollieren: Die Filter\n",
    "\n",
    "- Python verwendet einen **Warnungsfilter**: eine geordnete Liste von Regeln.\n",
    "- Jede Warnung wird gegen die Regeln überprüft; das *erste Match* bestimmt die\n",
    "  Aktion."
   ]
  },
  {
   "cell_type": "markdown",
   "id": "183baf7772888502",
   "metadata": {
    "lang": "de",
    "slideshow": {
     "slide_type": "slide"
    },
    "tags": [
     "slide"
    ]
   },
   "source": [
    "\n",
    "- **Filterregel:** `(action, message, category, module, lineno)`.\n",
    "  - `action`: Was zu tun ist (String).\n",
    "  - `message`: Regex, die den Anfang der Warnmeldung matcht\n",
    "    (case-insensitive).\n",
    "  - `category`: Warnungsklasse, die gematcht werden soll (z.B. `UserWarning`).\n",
    "  - `module`: Regex, die den Modulnamen matcht (case-sensitive).\n",
    "  - `lineno`: Zeilennummer, die gematcht werden soll (0 für beliebig)."
   ]
  },
  {
   "cell_type": "markdown",
   "id": "45d8d106b161fd7f",
   "metadata": {
    "lang": "de",
    "slideshow": {
     "slide_type": "slide"
    },
    "tags": [
     "slide"
    ]
   },
   "source": [
    "\n",
    "- **Aktionen**:\n",
    "  - `\"ignore\"`: Unterdrückt die Warnung.\n",
    "  - `\"error\"`: Wandelt die Warnung in eine Ausnahme um.\n",
    "  - `\"always\"`: Gibt die Warnung immer aus (überschreibt Unterdrückung von\n",
    "    Duplikaten).\n",
    "  - `\"default\"`: Gibt das erste Vorkommen pro Ort (Modul+Zeile) aus.\n",
    "  - `\"module\"`: Gibt das erste Vorkommen pro Modul aus.\n",
    "  - `\"once\"`: Gibt nur das allererste Vorkommen global aus."
   ]
  },
  {
   "cell_type": "markdown",
   "id": "653389e3d48294ed",
   "metadata": {
    "lang": "de",
    "slideshow": {
     "slide_type": "slide"
    },
    "tags": [
     "slide"
    ]
   },
   "source": [
    "\n",
    "## Warnungen kontrollieren: Filtereinstellungen\n",
    "\n",
    "- **In Code:**\n",
    "  - `warnings.simplefilter(...)`: Einfache Filterung nach Kategorie/Zeile.\n",
    "  - `warnings.filterwarnings(...)`: Komplexere Filterung mit Regex für\n",
    "    Nachricht/Modul.\n",
    "  - `warnings.resetwarnings()`: Setzt Filter auf den Standardzustand zurück."
   ]
  },
  {
   "cell_type": "markdown",
   "id": "ae92a9a673895c2a",
   "metadata": {
    "lang": "de",
    "slideshow": {
     "slide_type": "slide"
    },
    "tags": [
     "slide"
    ]
   },
   "source": [
    "\n",
    "- **In der Befehlszeile (`-W`):**\n",
    "  - `python -W action:message:category:module:lineno script.py`.\n",
    "  - Teile können weggelassen werden. `message`/`module` sind hier literale\n",
    "     Substrings.\n",
    "  - Beispiele:\n",
    "    - `python -W ignore script.py`,\n",
    "    - `python -W error::RuntimeWarning script.py`."
   ]
  },
  {
   "cell_type": "markdown",
   "id": "5b4a6ce8e124558a",
   "metadata": {
    "lang": "de",
    "slideshow": {
     "slide_type": "slide"
    },
    "tags": [
     "slide"
    ]
   },
   "source": [
    "\n",
    "- **Umgebungsvariable (`PYTHONWARNINGS`):**\n",
    "  - Komma-separierte Liste von Filter-Strings (wie `-W`-Argumente).\n",
    "  - `export PYTHONWARNINGS=\"ignore,error::ResourceWarning\"`."
   ]
  },
  {
   "cell_type": "markdown",
   "id": "543adb371676ff5c",
   "metadata": {
    "lang": "de",
    "slideshow": {
     "slide_type": "slide"
    },
    "tags": [
     "slide"
    ]
   },
   "source": [
    "\n",
    "- **Kontextmanager (`catch_warnings`):**\n",
    "  - Temporäre Modifikation der Filter innerhalb eines `with`-Blocks.\n",
    "  - Ursprüngliche Filter werden beim Verlassen wiederhergestellt.\n",
    "  - `with warnings.catch_warnings(record=True) as w:`: Sammelt Warnungen in\n",
    "     Liste `w` (z.B. für Tests).\n",
    "\n"
   ]
  },
  {
   "cell_type": "markdown",
   "id": "929ed3841e34141a",
   "metadata": {
    "lang": "de",
    "slideshow": {
     "slide_type": "slide"
    },
    "tags": [
     "slide"
    ]
   },
   "source": [
    "\n",
    "## Beispiele für Filterung"
   ]
  },
  {
   "cell_type": "code",
   "execution_count": null,
   "id": "591bc4a263403d91",
   "metadata": {
    "lines_to_next_cell": 1,
    "tags": [
     "keep"
    ]
   },
   "outputs": [],
   "source": [
    "import warnings"
   ]
  },
  {
   "cell_type": "code",
   "execution_count": null,
   "id": "c3c7967601cb3ce6",
   "metadata": {
    "lines_to_next_cell": 1
   },
   "outputs": [],
   "source": []
  },
  {
   "cell_type": "code",
   "execution_count": null,
   "id": "1029b3c32b203e20",
   "metadata": {
    "lines_to_next_cell": 1
   },
   "outputs": [],
   "source": []
  },
  {
   "cell_type": "markdown",
   "id": "945c4a26fa89026d",
   "metadata": {
    "lang": "de"
   },
   "source": [
    "\n",
    "Default-Verhalten:"
   ]
  },
  {
   "cell_type": "code",
   "execution_count": null,
   "id": "6439a9977c081c85",
   "metadata": {},
   "outputs": [],
   "source": []
  },
  {
   "cell_type": "code",
   "execution_count": null,
   "id": "0c9657529677a8fa",
   "metadata": {},
   "outputs": [],
   "source": []
  },
  {
   "cell_type": "markdown",
   "id": "175a5321c96a5617",
   "metadata": {
    "lang": "de",
    "slideshow": {
     "slide_type": "subslide"
    },
    "tags": [
     "subslide"
    ]
   },
   "source": [
    "\n",
    "Behandeln von `UserWarning` als Fehler:"
   ]
  },
  {
   "cell_type": "code",
   "execution_count": null,
   "id": "fd5b3bd759e24917",
   "metadata": {},
   "outputs": [],
   "source": []
  },
  {
   "cell_type": "code",
   "execution_count": null,
   "id": "884056829d5e21f9",
   "metadata": {},
   "outputs": [],
   "source": []
  },
  {
   "cell_type": "markdown",
   "id": "3ba8573cf5adbb33",
   "metadata": {
    "lang": "de",
    "slideshow": {
     "slide_type": "subslide"
    },
    "tags": [
     "subslide"
    ]
   },
   "source": [
    "\n",
    "Ignorieren einer bestimmten `DeprecationWarning`-Nachricht:"
   ]
  },
  {
   "cell_type": "code",
   "execution_count": null,
   "id": "20ed31544c5ff272",
   "metadata": {
    "tags": [
     "keep"
    ]
   },
   "outputs": [],
   "source": [
    "warnings.resetwarnings()  # Reset for next example"
   ]
  },
  {
   "cell_type": "code",
   "execution_count": null,
   "id": "dfade44c732329a2",
   "metadata": {},
   "outputs": [],
   "source": []
  },
  {
   "cell_type": "code",
   "execution_count": null,
   "id": "67f6ee0b1724b001",
   "metadata": {},
   "outputs": [],
   "source": []
  },
  {
   "cell_type": "markdown",
   "id": "5d7154cec1d17cac",
   "metadata": {
    "lang": "de",
    "slideshow": {
     "slide_type": "subslide"
    },
    "tags": [
     "subslide"
    ]
   },
   "source": [
    "\n",
    "Verwenden von `catch_warnings` zum Ignorieren einer Warnung:"
   ]
  },
  {
   "cell_type": "code",
   "execution_count": null,
   "id": "fabd65ed4dc80218",
   "metadata": {
    "lines_to_next_cell": 2,
    "tags": [
     "keep"
    ]
   },
   "outputs": [],
   "source": [
    "warnings.resetwarnings() # Reset for next example"
   ]
  },
  {
   "cell_type": "code",
   "execution_count": null,
   "id": "cb81371638982bb0",
   "metadata": {},
   "outputs": [],
   "source": []
  },
  {
   "cell_type": "markdown",
   "id": "bf5a8cb20a30e726",
   "metadata": {
    "lang": "de",
    "slideshow": {
     "slide_type": "subslide"
    },
    "tags": [
     "subslide"
    ]
   },
   "source": [
    "\n",
    "Verwenden von `catch_warnings` zum Aufzeichnen von Warnungen:"
   ]
  },
  {
   "cell_type": "code",
   "execution_count": null,
   "id": "27b134f8b35452f5",
   "metadata": {},
   "outputs": [],
   "source": []
  },
  {
   "cell_type": "markdown",
   "id": "8ec78b86548d7734",
   "metadata": {
    "lang": "de",
    "slideshow": {
     "slide_type": "subslide"
    },
    "tags": [
     "subslide"
    ]
   },
   "source": [
    "\n",
    "## Workshop: Filtern und Abfangen\n",
    "\n",
    "1. Definieren Sie zwei Funktionen:\n",
    "   - `calculate_old(x)`: Gibt eine `DeprecationWarning` (\"Use calculate_new\")\n",
    "      mit `stacklevel=2` aus.\n",
    "   - `check_value(v)`: Gibt eine `RuntimeWarning` (\"Value might be unstable\")\n",
    "      aus, wenn `v > 100`, mit `stacklevel=2`.\n",
    "2. **Teil A (Filtern):**\n",
    "   - Rufen Sie beide Funktionen auf.\n",
    "   - Fügen Sie Code hinzu, der `warnings.simplefilter` oder\n",
    "     `warnings.filterwarnings` verwendet, um:\n",
    "      - `RuntimeWarning` in einen Fehler zu verwandeln.\n",
    "      - Sicherzustellen, dass die `DeprecationWarning` *immer* angezeigt wird\n",
    "        (sie könnte standardmäßig ignoriert werden).\n",
    "   - Rufen Sie die Funktionen erneut innerhalb eines `try...except\n",
    "     RuntimeWarning`-Blocks auf.\n",
    "3. **Teil B (Abfangen):**\n",
    "   - Setzen Sie die Warnfilter zurück (`warnings.resetwarnings()`).\n",
    "   - Verwenden Sie `warnings.catch_warnings(record=True)`, um beide Funktionen\n",
    "     (`calculate_old(10)` und `check_value(150)`) aufzurufen.\n",
    "   - Stellen Sie sicher, dass genau zwei Warnungen erfasst wurden.\n",
    "   - Geben Sie die Kategorie und die Nachricht jeder erfassten Warnung aus."
   ]
  },
  {
   "cell_type": "code",
   "execution_count": null,
   "id": "c189a8d097803a7e",
   "metadata": {
    "lines_to_next_cell": 1,
    "slideshow": {
     "slide_type": "subslide"
    },
    "tags": [
     "keep",
     "subslide"
    ]
   },
   "outputs": [],
   "source": [
    "import warnings"
   ]
  },
  {
   "cell_type": "code",
   "execution_count": null,
   "id": "b82e7201b201a693",
   "metadata": {},
   "outputs": [],
   "source": []
  },
  {
   "cell_type": "code",
   "execution_count": null,
   "id": "7a89599f8fbaecd7",
   "metadata": {},
   "outputs": [],
   "source": []
  },
  {
   "cell_type": "markdown",
   "id": "7b55d92e0097e249",
   "metadata": {
    "lang": "de",
    "slideshow": {
     "slide_type": "subslide"
    },
    "tags": [
     "subslide"
    ]
   },
   "source": [
    "\n",
    "### Teil A: Filterung"
   ]
  },
  {
   "cell_type": "code",
   "execution_count": null,
   "id": "3e743c8867373c4f",
   "metadata": {},
   "outputs": [],
   "source": []
  },
  {
   "cell_type": "code",
   "execution_count": null,
   "id": "d1840e7abea83221",
   "metadata": {},
   "outputs": [],
   "source": []
  },
  {
   "cell_type": "code",
   "execution_count": null,
   "id": "9a5701e23013250b",
   "metadata": {},
   "outputs": [],
   "source": []
  },
  {
   "cell_type": "markdown",
   "id": "e2c241096b9b31aa",
   "metadata": {
    "lang": "de",
    "slideshow": {
     "slide_type": "subslide"
    },
    "tags": [
     "subslide"
    ]
   },
   "source": [
    "\n",
    "### Teil B: Abfangen"
   ]
  },
  {
   "cell_type": "code",
   "execution_count": null,
   "id": "685bef6df41f00f7",
   "metadata": {
    "tags": [
     "keep"
    ]
   },
   "outputs": [],
   "source": [
    "warnings.resetwarnings()  # Reset filters from Part A"
   ]
  },
  {
   "cell_type": "code",
   "execution_count": null,
   "id": "1a0439102803b8d6",
   "metadata": {},
   "outputs": [],
   "source": []
  },
  {
   "cell_type": "markdown",
   "id": "84574c9350085810",
   "metadata": {
    "lang": "de",
    "slideshow": {
     "slide_type": "slide"
    },
    "tags": [
     "slide"
    ]
   },
   "source": [
    "\n",
    "## Fortgeschrittene Themen & Best Practices\n",
    "\n",
    "- **Anpassen der Ausgabe:**\n",
    "  - Ersetzen Sie `warnings.showwarning(...)`, um zu ändern, *wie/wo* Warnungen\n",
    "    angezeigt werden (z.B. an Logger senden).\n",
    "  - Ersetzen Sie `warnings.formatwarning(...)`, um das *Nachrichtenformat* zu\n",
    "    ändern.\n",
    "- **Testen (`pytest`):**\n",
    "  - `pytest` erfasst automatisch Warnungen.\n",
    "  - Verwenden Sie `pytest.warns(ExpectedWarning, match='regex')`-Kontextmanager,\n",
    "    um spezifische Warnungen zu überprüfen.\n",
    "  - `recwarn`-Fixture zeichnet alle Warnungen in einem Test auf.\n",
    "  - `pytest` hat eigene Filterung (`-W`, `pytest.ini`, `@pytest.mark.filterwarnings`).\n",
    "- **Protokollierungsintegration:**\n",
    "  - `logging.captureWarnings(True)` leitet die Ausgabe des Warnmoduls an das\n",
    "    `logging`-System um (Logger `py.warnings`, Ebene `WARNING`).\n",
    "  - Zentralisiert Diagnosen, ermöglicht persistente Protokollierung."
   ]
  },
  {
   "cell_type": "markdown",
   "id": "503e8331c8da6d88",
   "metadata": {
    "lang": "de",
    "slideshow": {
     "slide_type": "subslide"
    },
    "tags": [
     "subslide"
    ]
   },
   "source": [
    "\n",
    "### Testen mit `pytest.warns`"
   ]
  },
  {
   "cell_type": "markdown",
   "id": "0e2ebaed3122fd0f",
   "metadata": {
    "slideshow": {
     "slide_type": "subslide"
    },
    "tags": [
     "subslide"
    ]
   },
   "source": [
    "\n",
    "```python\n",
    "# my_module.py\n",
    "import pytest\n",
    "import warnings\n",
    "\n",
    "def calculate_old(x):\n",
    "    warnings.warn(\"Use calculate_new\", DeprecationWarning, stacklevel=2)\n",
    "    return x * 0.9\n",
    "\n",
    "def check_value(v):\n",
    "    if v > 100:\n",
    "        warnings.warn(\"Value might be unstable\", RuntimeWarning, stacklevel=2)\n",
    "    return True\n",
    "\n",
    "# ...\n",
    "```"
   ]
  },
  {
   "cell_type": "markdown",
   "id": "1fd415b03dfe6db8",
   "metadata": {
    "slideshow": {
     "slide_type": "subslide"
    },
    "tags": [
     "subslide"
    ]
   },
   "source": [
    "\n",
    "```python\n",
    "# test_my_module.py\n",
    "\n",
    "def test_calculate_old_warns():\n",
    "    \"\"\"Verify calculate_old issues the correct DeprecationWarning.\"\"\"\n",
    "    with pytest.warns(DeprecationWarning, match=\"Use calculate_new\"):\n",
    "        calculate_old(50)\n",
    "\n",
    "def test_check_value_warns_if_high():\n",
    "    \"\"\"Verify check_value issues RuntimeWarning for high values.\"\"\"\n",
    "    with pytest.warns(RuntimeWarning, match=\"unstable\"):\n",
    "        check_value(200)\n",
    "```"
   ]
  },
  {
   "cell_type": "markdown",
   "id": "aff2f3c2d5fa4b2a",
   "metadata": {
    "slideshow": {
     "slide_type": "subslide"
    },
    "tags": [
     "subslide"
    ]
   },
   "source": [
    "\n",
    "```python\n",
    "def test_check_value_does_not_warn_if_low():\n",
    "    \"\"\"Verify check_value issues NO warning for low values.\"\"\"\n",
    "    with warnings.catch_warnings(record=True) as captured:\n",
    "        # Ensure warnings aren't filtered out by other settings during test\n",
    "        warnings.simplefilter(\"always\")\n",
    "        check_value(50)\n",
    "        # Assert no warnings were captured\n",
    "        assert len(captured) == 0, f\"Expected no warnings, got {len(captured)}\"\n",
    "```"
   ]
  },
  {
   "cell_type": "markdown",
   "id": "272d103e6af54856",
   "metadata": {
    "lang": "de",
    "slideshow": {
     "slide_type": "slide"
    },
    "tags": [
     "slide"
    ]
   },
   "source": [
    "\n",
    "## Best Practices\n",
    "\n",
    "- **Wählen Sie die richtige Kategorie:**\n",
    "  - Verwenden Sie den spezifischsten, semantisch korrekten Warnungstyp\n",
    "    (`DeprecationWarning`, `RuntimeWarning` usw.).\n",
    "- **Setzen Sie `stacklevel` korrekt:**\n",
    "  - Stellen Sie sicher, dass Warnungen auf den Code des Benutzers und nicht\n",
    "    auf interne Bibliothekszeilen verweisen.\n",
    "- **Schreiben Sie klare Nachrichten:**\n",
    "  - Erklären Sie das Problem und schlagen Sie Alternativen vor, wenn möglich.\n",
    "- **Dokumentieren Sie benutzerdefinierte Warnungen:**\n",
    "  - Wenn Sie benutzerdefinierte Kategorien erstellen, dokumentieren Sie diese.\n",
    "- **Testen Sie Ihre Warnungen:**\n",
    "  - Verwenden Sie `pytest.warns` oder `catch_warnings`, um zu überprüfen, ob\n",
    "    Warnungen korrekt ausgegeben werden.\n",
    "- **Behandeln Sie Warnungen in Entwicklung/CI:**\n",
    "  - Ignorieren Sie Warnungen nicht blind. Untersuchen Sie diese.\n",
    " - Ziehen Sie in Betracht, `-W error` in CI für kritische Warnungstypen zu\n",
    "   verwenden.\n",
    "- **Verwenden Sie die Protokollierungsintegration:**\n",
    "  - Für bessere Überwachung in Anwendungen leiten Sie Warnungen an Ihr\n",
    "    Protokollierungssystem (Log) weiter."
   ]
  },
  {
   "cell_type": "markdown",
   "id": "2d36703bf365d0ef",
   "metadata": {
    "lang": "de",
    "slideshow": {
     "slide_type": "slide"
    },
    "tags": [
     "slide"
    ]
   },
   "source": [
    "\n",
    "## Zusammenfassung\n",
    "\n",
    "- Das `warnings`-Modul ist ein leistungsstarkes Werkzeug für nicht-kritische\n",
    "  Kommunikation.\n",
    "- Unterscheidet sich von Ausnahmen, ist aber über Vererbung verbunden\n",
    "  (`Warning` ist eine Unterklasse von `Exception`).\n",
    "- Essentiell für die Evolution von Bibliotheken (Veraltung) und zur\n",
    "  - Hervorhebung potenzieller Probleme.\n",
    "- Hochgradig konfigurierbare Filterung ermöglicht maßgeschneidertes Verhalten\n",
    "  für verschiedene Umgebungen.\n",
    "- Integriert sich gut mit Test- (`pytest`) und Protokollierungsframeworks.\n",
    "- **Wichtigste Erkenntnis:** Verwenden Sie Warnungen durchdacht, konfigurieren\n",
    "  Sie sie angemessen und achten Sie während der Entwicklung darauf!"
   ]
  }
 ],
 "metadata": {
  "jupytext": {
   "cell_metadata_filter": "lang,tags,-all",
   "main_language": "python",
   "notebook_metadata_filter": "-all"
  },
  "kernelspec": {
   "display_name": "Python 3 (ipykernel)",
   "language": "python",
   "name": "python3"
  },
  "language_info": {
   "codemirror_mode": {
    "name": "ipython",
    "version": 3
   },
   "file_extension": ".py",
   "mimetype": "text/x-python",
   "name": "python",
   "nbconvert_exporter": "python",
   "pygments_lexer": "ipython3"
  }
 },
 "nbformat": 4,
 "nbformat_minor": 5
}
